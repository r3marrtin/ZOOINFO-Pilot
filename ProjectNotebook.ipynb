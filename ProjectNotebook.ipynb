{
 "cells": [
  {
   "cell_type": "markdown",
   "metadata": {},
   "source": [
    "# Project Description"
   ]
  },
  {
   "cell_type": "markdown",
   "metadata": {},
   "source": [
    "This code is for a new Zoo that contains 4 different species of animals, lions, elephants, zebras, and polar bear.\n",
    "It is meant for Zoo statisticains who keep track of new born animals. This code should facilitate reporting animal info in conferences and to the media. The presentation of what the code returns contains useful information and is easy to understand. I considered making the code more interactive, but given the audience of my code I don't think it is necessary at the time. \n",
    "\n",
    "When called, the methods will regard an object with a letter, A, and a number, 1-4, depending on the mating season. After each year there will be a new letter, and after every 3 months the number will change (based on mating season 1, 2, 3, 4). \n",
    "\n",
    "Things to improve on would be to make the code be more universal and allow for its use in bigger Zoo's. Adding an interactive component may also aid in the simplicity of the use of the code, however, I have not fully looked into the reality of what that would look like. Using 'input' would make the code more interactive, but may make the retunred info more complicated to understand. "
   ]
  },
  {
   "cell_type": "markdown",
   "metadata": {},
   "source": [
    "## Project Code\n",
    "\n",
    "If it makes sense for your project, you can have code and outputs here in the notebook as well."
   ]
  },
  {
   "cell_type": "code",
   "execution_count": 1,
   "metadata": {},
   "outputs": [],
   "source": [
    "\n",
    "from my_module.classes import NewZooBorn "
   ]
  },
  {
   "cell_type": "code",
   "execution_count": 2,
   "metadata": {},
   "outputs": [
    {
     "data": {
      "text/plain": [
       "([{'Name': 'Ral', 'Species': 'lion', 'Extinction': 'is', 'Habitat': 'desert'},\n",
       "  {'Name': 'Shitoshi',\n",
       "   'Species': 'zebra',\n",
       "   'Extinction': 'is',\n",
       "   'Habitat': 'grasslands'},\n",
       "  {'Name': 'Zlatan',\n",
       "   'Species': 'elephant',\n",
       "   'Extinction': 'is',\n",
       "   'Habitat': 'sahara'},\n",
       "  {'Name': 'Roll',\n",
       "   'Species': 'polar bear',\n",
       "   'Extinction': 'is',\n",
       "   'Habitat': 'artic'}],\n",
       " 4)"
      ]
     },
     "execution_count": 2,
     "metadata": {},
     "output_type": "execute_result"
    }
   ],
   "source": [
    "#code demo\n",
    "#Demo for animals born in A1\n",
    "A1 = NewZooBorn()\n",
    "A1.add_newborn('Ral', 'lion', 'is', 'desert')\n",
    "A1.add_newborn('Shitoshi', 'zebra', 'is', 'grasslands')\n",
    "A1.add_newborn('Zlatan', 'elephant', 'is', 'sahara')\n",
    "A1.add_newborn('Roll', 'polar bear', 'is', 'artic')"
   ]
  },
  {
   "cell_type": "code",
   "execution_count": 3,
   "metadata": {},
   "outputs": [
    {
     "data": {
      "text/plain": [
       "'Ral is a lion who is in extinction and lives in the desert.'"
      ]
     },
     "execution_count": 3,
     "metadata": {},
     "output_type": "execute_result"
    }
   ],
   "source": [
    "#code demo \n",
    "#Demo for animal bio in A1\n",
    "A1.newborn_bio('Ral', 'lion', 'is', 'desert')"
   ]
  },
  {
   "cell_type": "code",
   "execution_count": 4,
   "metadata": {},
   "outputs": [
    {
     "data": {
      "text/plain": [
       "'Shitoshi is a zebra who is in extinction and lives in the grasslands.'"
      ]
     },
     "execution_count": 4,
     "metadata": {},
     "output_type": "execute_result"
    }
   ],
   "source": [
    "A1.newborn_bio('Shitoshi', 'zebra', 'is', 'grasslands')"
   ]
  },
  {
   "cell_type": "code",
   "execution_count": 5,
   "metadata": {},
   "outputs": [
    {
     "data": {
      "text/plain": [
       "'Zlatan is a elephant who is in extinction and lives in the sahara.'"
      ]
     },
     "execution_count": 5,
     "metadata": {},
     "output_type": "execute_result"
    }
   ],
   "source": [
    "A1.newborn_bio('Zlatan', 'elephant', 'is', 'sahara')"
   ]
  },
  {
   "cell_type": "code",
   "execution_count": 6,
   "metadata": {},
   "outputs": [
    {
     "data": {
      "text/plain": [
       "'Roll is a polar bear who is in extinction and lives in the artic.'"
      ]
     },
     "execution_count": 6,
     "metadata": {},
     "output_type": "execute_result"
    }
   ],
   "source": [
    "A1.newborn_bio('Roll', 'polar bear', 'is', 'artic')"
   ]
  },
  {
   "cell_type": "code",
   "execution_count": 7,
   "metadata": {},
   "outputs": [
    {
     "data": {
      "text/plain": [
       "{'lion': 'meat'}"
      ]
     },
     "execution_count": 7,
     "metadata": {},
     "output_type": "execute_result"
    }
   ],
   "source": [
    "#code demo \n",
    "#demo of favorite food of newborn of A1\n",
    "A1.newborn_fav_food('Ral', 'lion')"
   ]
  },
  {
   "cell_type": "code",
   "execution_count": 8,
   "metadata": {},
   "outputs": [
    {
     "data": {
      "text/plain": [
       "{'zebra': 'greens'}"
      ]
     },
     "execution_count": 8,
     "metadata": {},
     "output_type": "execute_result"
    }
   ],
   "source": [
    "A1.newborn_fav_food('Shitohi', 'zebra')"
   ]
  },
  {
   "cell_type": "code",
   "execution_count": 9,
   "metadata": {},
   "outputs": [
    {
     "data": {
      "text/plain": [
       "{'elephant': 'greens'}"
      ]
     },
     "execution_count": 9,
     "metadata": {},
     "output_type": "execute_result"
    }
   ],
   "source": [
    "A1.newborn_fav_food('Zlatan', 'elephant')"
   ]
  },
  {
   "cell_type": "code",
   "execution_count": 10,
   "metadata": {},
   "outputs": [
    {
     "data": {
      "text/plain": [
       "{'polar bear': 'fish'}"
      ]
     },
     "execution_count": 10,
     "metadata": {},
     "output_type": "execute_result"
    }
   ],
   "source": [
    "A1.newborn_fav_food('Rall', 'polar bear')"
   ]
  },
  {
   "cell_type": "code",
   "execution_count": 11,
   "metadata": {},
   "outputs": [
    {
     "data": {
      "text/plain": [
       "([{'name': 'Ral',\n",
       "   'species': 'lion',\n",
       "   'extinction': 'is',\n",
       "   'habitat': 'desert',\n",
       "   'intensive_care': 'yes'},\n",
       "  {'name': 'Shitoshi',\n",
       "   'species': 'zebra',\n",
       "   'extinction': 'is',\n",
       "   'habitat': 'grasslands',\n",
       "   'intensive_care': 'yes'},\n",
       "  {'name': 'Zlatan',\n",
       "   'species': 'elephant',\n",
       "   'extinction': 'is',\n",
       "   'habitat': 'sahara',\n",
       "   'intensive_care': 'yes'},\n",
       "  {'name': 'Roll',\n",
       "   'species': 'polar bear',\n",
       "   'extinction': 'is',\n",
       "   'habitat': 'artic',\n",
       "   'intensive_care': 'yes'}],\n",
       " 4)"
      ]
     },
     "execution_count": 11,
     "metadata": {},
     "output_type": "execute_result"
    }
   ],
   "source": [
    "#code demo\n",
    "#demo for newborns in A1 that need relocation \n",
    "A1.newborn_relocation('Ral', 'lion', 'is', 'desert', 'yes')\n",
    "A1.newborn_relocation('Shitoshi', 'zebra', 'is', 'grasslands', 'yes')\n",
    "A1.newborn_relocation('Zlatan', 'elephant', 'is', 'sahara', 'yes')\n",
    "A1.newborn_relocation('Roll', 'polar bear', 'is', 'artic', 'yes')"
   ]
  },
  {
   "cell_type": "code",
   "execution_count": 12,
   "metadata": {},
   "outputs": [
    {
     "ename": "NameError",
     "evalue": "name 'add_newborn' is not defined",
     "output_type": "error",
     "traceback": [
      "\u001b[0;31m---------------------------------------------------------------------------\u001b[0m",
      "\u001b[0;31mNameError\u001b[0m                                 Traceback (most recent call last)",
      "\u001b[0;32m/tmp/ipykernel_13152/2321288511.py\u001b[0m in \u001b[0;36m<module>\u001b[0;34m\u001b[0m\n\u001b[1;32m      1\u001b[0m \u001b[0;32mfrom\u001b[0m \u001b[0mmy_module\u001b[0m \u001b[0;32mimport\u001b[0m \u001b[0mtest_functions\u001b[0m \u001b[0;32mas\u001b[0m \u001b[0mtf\u001b[0m\u001b[0;34m\u001b[0m\u001b[0;34m\u001b[0m\u001b[0m\n\u001b[0;32m----> 2\u001b[0;31m \u001b[0mtf\u001b[0m\u001b[0;34m.\u001b[0m\u001b[0mtest_add_newborn\u001b[0m\u001b[0;34m(\u001b[0m\u001b[0;34m)\u001b[0m\u001b[0;34m\u001b[0m\u001b[0;34m\u001b[0m\u001b[0m\n\u001b[0m\u001b[1;32m      3\u001b[0m \u001b[0mtf\u001b[0m\u001b[0;34m.\u001b[0m\u001b[0mtest_newborn_bio\u001b[0m\u001b[0;34m(\u001b[0m\u001b[0;34m)\u001b[0m\u001b[0;34m\u001b[0m\u001b[0;34m\u001b[0m\u001b[0m\n\u001b[1;32m      4\u001b[0m \u001b[0mtf\u001b[0m\u001b[0;34m.\u001b[0m\u001b[0mtest_newborn_fav_food\u001b[0m\u001b[0;34m(\u001b[0m\u001b[0;34m)\u001b[0m\u001b[0;34m\u001b[0m\u001b[0;34m\u001b[0m\u001b[0m\n\u001b[1;32m      5\u001b[0m \u001b[0mtf\u001b[0m\u001b[0;34m.\u001b[0m\u001b[0mtest\u001b[0m\u001b[0;34m.\u001b[0m\u001b[0mnewborn_relocation\u001b[0m\u001b[0;34m(\u001b[0m\u001b[0;34m)\u001b[0m\u001b[0;34m\u001b[0m\u001b[0;34m\u001b[0m\u001b[0m\n",
      "\u001b[0;32m~/Project_COGS18_FA21/my_module/test_functions.py\u001b[0m in \u001b[0;36mtest_add_newborn\u001b[0;34m()\u001b[0m\n\u001b[1;32m     10\u001b[0m \u001b[0;34m\u001b[0m\u001b[0m\n\u001b[1;32m     11\u001b[0m \u001b[0;32mdef\u001b[0m \u001b[0mtest_add_newborn\u001b[0m\u001b[0;34m(\u001b[0m\u001b[0;34m)\u001b[0m\u001b[0;34m:\u001b[0m\u001b[0;34m\u001b[0m\u001b[0;34m\u001b[0m\u001b[0m\n\u001b[0;32m---> 12\u001b[0;31m     \u001b[0;32massert\u001b[0m \u001b[0madd_newborn\u001b[0m\u001b[0;34m(\u001b[0m\u001b[0;34m'Bill'\u001b[0m\u001b[0;34m,\u001b[0m \u001b[0;34m'lion'\u001b[0m\u001b[0;34m,\u001b[0m \u001b[0;34m'is'\u001b[0m\u001b[0;34m,\u001b[0m \u001b[0;34m'desert'\u001b[0m\u001b[0;34m)\u001b[0m \u001b[0;34m!=\u001b[0m \u001b[0mnp\u001b[0m\u001b[0;34m.\u001b[0m\u001b[0mnan\u001b[0m\u001b[0;34m\u001b[0m\u001b[0;34m\u001b[0m\u001b[0m\n\u001b[0m\u001b[1;32m     13\u001b[0m     assert add_newborn('Leo', 'lion', 'is', 'desert') == ([{'Name': 'Leo', 'Species': 'lion', 'Extinction': 'is', 'Habitat': 'desert'}],\n\u001b[1;32m     14\u001b[0m  1)\n",
      "\u001b[0;31mNameError\u001b[0m: name 'add_newborn' is not defined"
     ]
    }
   ],
   "source": [
    "from my_module import test_functions as tf\n",
    "tf.test_add_newborn()\n",
    "tf.test_newborn_bio()\n",
    "tf.test_newborn_fav_food()\n",
    "tf.test.newborn_relocation()"
   ]
  },
  {
   "cell_type": "markdown",
   "metadata": {},
   "source": [
    "#### Extra Credit (*optional*)\n",
    "\n",
    "1. My python background was inexistant, I had coded in Java before, but through CSE 8A, which I unfortunately failed. \n",
    "This class has definelty implemented more knowledge into me than CSE 8A. \n",
    "\n",
    "2. I'm not sure if my project went above and beyond, however, I am proud of my progress asnit seems to me that I have learned a lot over the last quarter. To think I have made methods that can be further developed to greater capacites is exciting. "
   ]
  }
 ],
 "metadata": {
  "kernelspec": {
   "display_name": "Python 3 (ipykernel)",
   "language": "python",
   "name": "python3"
  },
  "language_info": {
   "codemirror_mode": {
    "name": "ipython",
    "version": 3
   },
   "file_extension": ".py",
   "mimetype": "text/x-python",
   "name": "python",
   "nbconvert_exporter": "python",
   "pygments_lexer": "ipython3",
   "version": "3.9.5"
  }
 },
 "nbformat": 4,
 "nbformat_minor": 2
}
